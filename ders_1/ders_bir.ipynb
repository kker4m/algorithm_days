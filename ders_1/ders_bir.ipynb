{
 "cells": [
  {
   "cell_type": "code",
   "execution_count": null,
   "outputs": [],
   "source": [
    "int - integer = tam sayilarimiz\n",
    "float = 3.14 , 2.6\n",
    "string - str = \"ihsan\", 'kerem'\n",
    "boolean - bool = True, False, 1, 0"
   ],
   "metadata": {
    "collapsed": false
   },
   "id": "d93a41aee5dd0d34"
  },
  {
   "cell_type": "code",
   "execution_count": 3,
   "outputs": [
    {
     "name": "stdout",
     "output_type": "stream",
     "text": [
      "3\n",
      "kerem\n",
      "True\n",
      "3.14\n"
     ]
    }
   ],
   "source": [
    "print(3)\n",
    "print(\"kerem\")\n",
    "print(True)\n",
    "print(3.14)"
   ],
   "metadata": {
    "collapsed": false,
    "ExecuteTime": {
     "end_time": "2023-11-12T12:28:23.020222Z",
     "start_time": "2023-11-12T12:28:23.015978Z"
    }
   },
   "id": "e560fb0675b3299d"
  },
  {
   "cell_type": "code",
   "execution_count": 4,
   "outputs": [
    {
     "name": "stdout",
     "output_type": "stream",
     "text": [
      "15.700000000000001\n"
     ]
    }
   ],
   "source": [
    "pi_sayisi = 3.14\n",
    "sayi = 5\n",
    "print(pi_sayisi*sayi)\n",
    "\n",
    "#Yanlis\n",
    "f = 40\n",
    "m = 2000\n"
   ],
   "metadata": {
    "collapsed": false,
    "ExecuteTime": {
     "end_time": "2023-11-12T12:29:22.359266Z",
     "start_time": "2023-11-12T12:29:22.350621Z"
    }
   },
   "id": "750dcd56fc828e71"
  },
  {
   "cell_type": "code",
   "execution_count": 6,
   "outputs": [
    {
     "ename": "TypeError",
     "evalue": "unsupported operand type(s) for /: 'str' and 'int'",
     "output_type": "error",
     "traceback": [
      "\u001B[0;31m---------------------------------------------------------------------------\u001B[0m",
      "\u001B[0;31mTypeError\u001B[0m                                 Traceback (most recent call last)",
      "Cell \u001B[0;32mIn[6], line 2\u001B[0m\n\u001B[1;32m      1\u001B[0m not_1 \u001B[38;5;241m=\u001B[39m \u001B[38;5;28minput\u001B[39m(\u001B[38;5;124m\"\u001B[39m\u001B[38;5;124mnotunu gir:\u001B[39m\u001B[38;5;124m\"\u001B[39m)\n\u001B[0;32m----> 2\u001B[0m \u001B[38;5;28mprint\u001B[39m(\u001B[43mnot_1\u001B[49m\u001B[43m \u001B[49m\u001B[38;5;241;43m*\u001B[39;49m\u001B[43m \u001B[49m\u001B[38;5;241;43m40\u001B[39;49m\u001B[43m \u001B[49m\u001B[38;5;241;43m/\u001B[39;49m\u001B[43m \u001B[49m\u001B[38;5;241;43m100\u001B[39;49m)\n",
      "\u001B[0;31mTypeError\u001B[0m: unsupported operand type(s) for /: 'str' and 'int'"
     ]
    }
   ],
   "source": [
    "#String matematiksel islemler hata gosterimi\n",
    "not_1 = input(\"notunu gir:\")\n",
    "print(not_1 * 40 / 100)"
   ],
   "metadata": {
    "collapsed": false,
    "ExecuteTime": {
     "end_time": "2023-11-12T12:33:52.422608Z",
     "start_time": "2023-11-12T12:33:50.597141Z"
    }
   },
   "id": "d5053111d0949153"
  },
  {
   "cell_type": "code",
   "execution_count": 10,
   "outputs": [
    {
     "name": "stdout",
     "output_type": "stream",
     "text": [
      "kerem kerem kerem \n",
      "kerem izmir\n"
     ]
    }
   ],
   "source": [
    "#String ile matematiksel islemler\n",
    "ad = \"kerem\"\n",
    "soyad = \"izmir\"\n",
    "print((ad + \" \") * 3)\n",
    "print(ad + \" \"+soyad)"
   ],
   "metadata": {
    "collapsed": false,
    "ExecuteTime": {
     "end_time": "2023-11-12T12:35:12.553094Z",
     "start_time": "2023-11-12T12:35:12.546206Z"
    }
   },
   "id": "6eb160b502ff718"
  },
  {
   "cell_type": "code",
   "execution_count": null,
   "outputs": [],
   "source": [
    "#Islem onceligi\n",
    "P arantez\n",
    "U slu sayilara\n",
    "B olme islemleri\n",
    "C arpma \n",
    "E kleme \n",
    "C ikarma"
   ],
   "metadata": {
    "collapsed": false
   },
   "id": "8d5df2ad6e760acb"
  },
  {
   "cell_type": "code",
   "execution_count": 13,
   "outputs": [
    {
     "name": "stdout",
     "output_type": "stream",
     "text": [
      "15.0\n",
      "900\n"
     ]
    }
   ],
   "source": [
    "#Int sayilarla matematiksel islemler\n",
    "sayi = int(input(\"Sayini gir : \"))\n",
    "print(sayi / 2)\n",
    "print(sayi * 30)\n"
   ],
   "metadata": {
    "collapsed": false,
    "ExecuteTime": {
     "end_time": "2023-11-12T12:38:47.176872Z",
     "start_time": "2023-11-12T12:38:45.795011Z"
    }
   },
   "id": "f49f22408ce941e1"
  },
  {
   "cell_type": "code",
   "execution_count": 15,
   "outputs": [
    {
     "name": "stdout",
     "output_type": "stream",
     "text": [
      "<class 'str'>\n",
      "<class 'int'>\n",
      "<class 'float'>\n",
      "<class 'str'>\n"
     ]
    }
   ],
   "source": [
    "#type fonksiyonu\n",
    "\n",
    "ad = str(input(\"Isiminizi giriniz:  \"))\n",
    "sayi = int(input(\"Sayi girinzi: \"))\n",
    "ondalikli_sayi = float(input(\"ondalikli sayi girinzi: \"))\n",
    "\n",
    "tam_sayi = str(20)\n",
    "\n",
    "print(type(ad))\n",
    "print(type(sayi))\n",
    "print(type(ondalikli_sayi))\n",
    "print(type(tam_sayi))"
   ],
   "metadata": {
    "collapsed": false,
    "ExecuteTime": {
     "end_time": "2023-11-12T12:42:53.349756Z",
     "start_time": "2023-11-12T12:42:45.944247Z"
    }
   },
   "id": "28f95b2162db6b70"
  },
  {
   "cell_type": "code",
   "execution_count": 17,
   "outputs": [
    {
     "name": "stdout",
     "output_type": "stream",
     "text": [
      "kerem20\n"
     ]
    }
   ],
   "source": [
    "#String ve integer toplama islemi\n",
    "tam_sayi = str(20)\n",
    "ad = \"kerem\"\n",
    "print(ad + tam_sayi)"
   ],
   "metadata": {
    "collapsed": false,
    "ExecuteTime": {
     "end_time": "2023-11-12T12:45:49.655736Z",
     "start_time": "2023-11-12T12:45:49.649149Z"
    }
   },
   "id": "c82b4bd2c57ba961"
  },
  {
   "cell_type": "code",
   "execution_count": 18,
   "outputs": [
    {
     "name": "stdout",
     "output_type": "stream",
     "text": [
      "HACI\n",
      "furkan\n"
     ]
    }
   ],
   "source": [
    "#String metodlari devami\n",
    "ad = \"haci\"\n",
    "print(ad.upper())\n",
    "isim = \"FURKAN\"\n",
    "print(isim.lower())"
   ],
   "metadata": {
    "collapsed": false,
    "ExecuteTime": {
     "end_time": "2023-11-12T13:05:03.332851Z",
     "start_time": "2023-11-12T13:05:03.320116Z"
    }
   },
   "id": "6c19cc2376ca30b"
  },
  {
   "cell_type": "code",
   "execution_count": 24,
   "outputs": [
    {
     "name": "stdout",
     "output_type": "stream",
     "text": [
      "Kerem mert\n",
      "Kerem,Mert\n"
     ]
    }
   ],
   "source": [
    "isim = \"Kerem Mert\"\n",
    "print(isim.capitalize())\n",
    "print(isim.replace(\" \",\",\"))"
   ],
   "metadata": {
    "collapsed": false,
    "ExecuteTime": {
     "end_time": "2023-11-12T13:08:33.699797Z",
     "start_time": "2023-11-12T13:08:33.694246Z"
    }
   },
   "id": "53cb079f17043155"
  },
  {
   "cell_type": "code",
   "execution_count": 27,
   "outputs": [
    {
     "name": "stdout",
     "output_type": "stream",
     "text": [
      "False\n",
      "True\n",
      "True\n",
      "False\n"
     ]
    }
   ],
   "source": [
    "# ==\n",
    "# <\n",
    "# >\n",
    "# >=\n",
    "# <=\n",
    "# !=\n",
    "# %\n",
    "sayi_1 = 5\n",
    "sayi_2 = 13\n",
    "sayi_3 = 44\n",
    "sayi_4 = 13\n",
    "\n",
    "print(sayi_1 > sayi_2)\n",
    "print(sayi_2 > sayi_1)\n",
    "#Esit miidr \n",
    "print(sayi_2 == sayi_4)\n",
    "#esit degil midir\n",
    "print(sayi_2 != sayi_4)\n"
   ],
   "metadata": {
    "collapsed": false,
    "ExecuteTime": {
     "end_time": "2023-11-12T13:13:16.418349Z",
     "start_time": "2023-11-12T13:13:16.413525Z"
    }
   },
   "id": "6e02bec8719df232"
  },
  {
   "cell_type": "code",
   "execution_count": 37,
   "outputs": [
    {
     "name": "stdout",
     "output_type": "stream",
     "text": [
      "if calisti\n"
     ]
    }
   ],
   "source": [
    "sayi_1 = 20\n",
    "sayi_2 = 13\n",
    "sayi_3 = 44\n",
    "sayi_4 = 13\n",
    "#and\n",
    "#not\n",
    "#or\n",
    "    #False \n",
    "if not (sayi_2 > sayi_1): \n",
    "    print(\"if calisti\")\n",
    "else:\n",
    "    print(\"herhangi bi sey\")\n"
   ],
   "metadata": {
    "collapsed": false,
    "ExecuteTime": {
     "end_time": "2023-11-12T13:26:28.994383Z",
     "start_time": "2023-11-12T13:26:28.988175Z"
    }
   },
   "id": "93c01281e30e8c7"
  },
  {
   "cell_type": "code",
   "execution_count": 38,
   "outputs": [
    {
     "name": "stdout",
     "output_type": "stream",
     "text": [
      "if calisti\n"
     ]
    }
   ],
   "source": [
    "sayi_1 = 20\n",
    "sayi_2 = 40\n",
    "sayi_3 = 44\n",
    "sayi_4 = 13\n",
    "sayi_5 = 160\n",
    "\n",
    "if (sayi_2 > sayi_1):\n",
    "    print(\"if calisti\")\n",
    "elif (sayi_3 > sayi_1):\n",
    "    print(\"elif-1 calisti\")\n",
    "elif (sayi_4 > sayi_5):\n",
    "    print(\"elif-2 calisti\")\n",
    "else:\n",
    "    print(\"else calisti, program kapandi\")"
   ],
   "metadata": {
    "collapsed": false,
    "ExecuteTime": {
     "end_time": "2023-11-12T13:29:31.942962Z",
     "start_time": "2023-11-12T13:29:31.927837Z"
    }
   },
   "id": "b53f5d31828c502e"
  },
  {
   "cell_type": "code",
   "execution_count": null,
   "outputs": [],
   "source": [],
   "metadata": {
    "collapsed": false
   },
   "id": "b688038cc6e2918b"
  }
 ],
 "metadata": {
  "kernelspec": {
   "display_name": "Python 3",
   "language": "python",
   "name": "python3"
  },
  "language_info": {
   "codemirror_mode": {
    "name": "ipython",
    "version": 2
   },
   "file_extension": ".py",
   "mimetype": "text/x-python",
   "name": "python",
   "nbconvert_exporter": "python",
   "pygments_lexer": "ipython2",
   "version": "2.7.6"
  }
 },
 "nbformat": 4,
 "nbformat_minor": 5
}
