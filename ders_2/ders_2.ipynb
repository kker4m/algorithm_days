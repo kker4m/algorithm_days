{
 "cells": [
  {
   "cell_type": "code",
   "execution_count": 7,
   "outputs": [
    {
     "name": "stdout",
     "output_type": "stream",
     "text": [
      "5\n",
      "otoubs\n",
      "['araba', 'kamyon', 'minibus', 'otoubs', 'tir', 'motor']\n",
      "['araba', 'kamyon', 'minibus', 'otoubs', 'tir']\n"
     ]
    }
   ],
   "source": [
    "#listeler\n",
    "listem = [\"araba\",\"kamyon\",\"minibus\",\"otoubs\",\"tir\"]\n",
    "print(len(listem))\n",
    "print(listem[-2])\n",
    "listem.append(\"motor\")\n",
    "print(listem)\n",
    "listem.pop()\n",
    "print(listem)\n"
   ],
   "metadata": {
    "collapsed": false,
    "ExecuteTime": {
     "end_time": "2023-11-19T12:11:43.871400Z",
     "start_time": "2023-11-19T12:11:43.866377Z"
    }
   },
   "id": "2b012dd52e42ecd8"
  },
  {
   "cell_type": "code",
   "execution_count": 10,
   "outputs": [
    {
     "name": "stdout",
     "output_type": "stream",
     "text": [
      "[1, 10, 3, 4, 5, 6]\n"
     ]
    }
   ],
   "source": [
    "birinci_liste = [1,2,3]\n",
    "ikinci_liste = [4,5,6]\n",
    "\n",
    "if birinci_liste[1] == 2:\n",
    "    birinci_liste[1] = 10\n",
    "\n",
    "birinci_liste.extend(ikinci_liste)\n",
    "print(birinci_liste)"
   ],
   "metadata": {
    "collapsed": false,
    "ExecuteTime": {
     "end_time": "2023-11-19T12:13:52.193930Z",
     "start_time": "2023-11-19T12:13:52.190288Z"
    }
   },
   "id": "c9b4b4ed23f259af"
  },
  {
   "cell_type": "code",
   "execution_count": 12,
   "outputs": [
    {
     "name": "stdout",
     "output_type": "stream",
     "text": [
      "[1, 2, 3]\n",
      "[1, 2, 3]\n",
      "['kerem', 2, 3]\n",
      "['kerem', 2, 3]\n"
     ]
    }
   ],
   "source": [
    "birinci_liste = [1,2,3]\n",
    "ikinci_liste = birinci_liste\n",
    "\n",
    "print(birinci_liste)\n",
    "print(ikinci_liste)\n",
    "\n",
    "birinci_liste[0] = \"kerem\"\n",
    "print(birinci_liste)\n",
    "print(ikinci_liste)"
   ],
   "metadata": {
    "collapsed": false,
    "ExecuteTime": {
     "end_time": "2023-11-19T12:15:00.040711Z",
     "start_time": "2023-11-19T12:15:00.034608Z"
    }
   },
   "id": "aeb14c976e9b1e8e"
  },
  {
   "cell_type": "code",
   "execution_count": 15,
   "outputs": [
    {
     "name": "stdout",
     "output_type": "stream",
     "text": [
      "[1, 2]\n",
      "[1, 3, 5]\n"
     ]
    }
   ],
   "source": [
    "# [:]\n",
    "listem = [1,2,3,4,5,6,7,8,9,10]\n",
    "print(listem[0:2])\n",
    "print(listem[0:5:2])"
   ],
   "metadata": {
    "collapsed": false,
    "ExecuteTime": {
     "end_time": "2023-11-19T12:17:59.731277Z",
     "start_time": "2023-11-19T12:17:59.726742Z"
    }
   },
   "id": "41de8c9e1cec007e"
  },
  {
   "cell_type": "code",
   "execution_count": 16,
   "outputs": [
    {
     "name": "stdout",
     "output_type": "stream",
     "text": [
      "[1, 2, 3, 4, 5, 6, 7, 8, 9, 10]\n"
     ]
    }
   ],
   "source": [
    "listem = [1,2,3,4,5,6,7,8,9,10]\n",
    "\n",
    "listem_2 = listem[:]\n",
    "print(listem_2)"
   ],
   "metadata": {
    "collapsed": false,
    "ExecuteTime": {
     "end_time": "2023-11-19T12:18:50.822102Z",
     "start_time": "2023-11-19T12:18:50.810207Z"
    }
   },
   "id": "84d1622dc63fdecc"
  },
  {
   "cell_type": "code",
   "execution_count": 34,
   "outputs": [
    {
     "name": "stdout",
     "output_type": "stream",
     "text": [
      "5\n",
      "K\n",
      "e\n",
      "r\n",
      "e\n",
      "m\n"
     ]
    }
   ],
   "source": [
    "listem = [1,2,3,4,5,6,7,8,9,10]\n",
    "isim = \"kerem\"\n",
    "print(len(isim))\n",
    "\n",
    "for isim_index in range(len(isim)):\n",
    "    if isim_index == 0:\n",
    "        print(isim[isim_index].upper())\n",
    "    else:\n",
    "        print(isim[isim_index])\n",
    "\n"
   ],
   "metadata": {
    "collapsed": false,
    "ExecuteTime": {
     "end_time": "2023-11-19T12:29:43.435630Z",
     "start_time": "2023-11-19T12:29:43.421149Z"
    }
   },
   "id": "c550e859516e530f"
  },
  {
   "cell_type": "code",
   "execution_count": 35,
   "outputs": [
    {
     "name": "stdout",
     "output_type": "stream",
     "text": [
      "0 araba\n",
      "1 minibus\n",
      "2 kamyon\n",
      "3 motor\n"
     ]
    }
   ],
   "source": [
    "listem = [\"araba\",\"minibus\",\"kamyon\",\"motor\"]\n",
    "for i,eleman in enumerate(listem):\n",
    "    print(i,eleman)\n"
   ],
   "metadata": {
    "collapsed": false,
    "ExecuteTime": {
     "end_time": "2023-11-19T12:30:43.149519Z",
     "start_time": "2023-11-19T12:30:43.136357Z"
    }
   },
   "id": "224a9394a3a55465"
  },
  {
   "cell_type": "code",
   "execution_count": 37,
   "outputs": [
    {
     "name": "stdout",
     "output_type": "stream",
     "text": [
      "Captcha bulund\n"
     ]
    }
   ],
   "source": [
    "sayi_1 = 2\n",
    "sayi_2 = 5\n",
    "\n",
    "while True:\n",
    "    for i in range(5):\n",
    "        break\n",
    "    print(\"Captcha bulund\")\n",
    "    break\n",
    "    "
   ],
   "metadata": {
    "collapsed": false,
    "ExecuteTime": {
     "end_time": "2023-11-19T12:35:56.560116Z",
     "start_time": "2023-11-19T12:35:56.552130Z"
    }
   },
   "id": "984b402d95f8c048"
  },
  {
   "cell_type": "code",
   "execution_count": 38,
   "outputs": [
    {
     "name": "stdout",
     "output_type": "stream",
     "text": [
      "['motor', 'kamyon', 'minibus', 'araba']\n"
     ]
    }
   ],
   "source": [
    "listem = [\"araba\",\"minibus\",\"kamyon\",\"motor\"]\n",
    "\n",
    "print(listem[::-1])"
   ],
   "metadata": {
    "collapsed": false,
    "ExecuteTime": {
     "end_time": "2023-11-19T12:37:21.249571Z",
     "start_time": "2023-11-19T12:37:21.235536Z"
    }
   },
   "id": "8fb8a0f70bbcb8b7"
  },
  {
   "cell_type": "code",
   "execution_count": 52,
   "outputs": [
    {
     "name": "stdout",
     "output_type": "stream",
     "text": [
      "False\n"
     ]
    }
   ],
   "source": [
    "def zam_hesapla(maas = 100):\n",
    "    if type(maas) == str:\n",
    "        return False\n",
    "    \n",
    "    yeni_maas = maas + (maas*40/100)\n",
    "    return yeni_maas\n",
    "\n",
    "\n",
    "yeni_maasim = zam_hesapla(\"asdasc\")\n",
    "print(yeni_maasim)"
   ],
   "metadata": {
    "collapsed": false,
    "ExecuteTime": {
     "end_time": "2023-11-19T12:45:50.937645Z",
     "start_time": "2023-11-19T12:45:50.930103Z"
    }
   },
   "id": "162a2fb2680b36c9"
  },
  {
   "cell_type": "code",
   "execution_count": 54,
   "outputs": [
    {
     "name": "stdout",
     "output_type": "stream",
     "text": [
      "120\n"
     ]
    }
   ],
   "source": [
    "#Algorithm Challenge\n",
    "#Faktoriyel hesaplayan fonksiyon, kullanicidan 1 sayi alir\n",
    "# 6! = 6.5.4.3.2.1 \n",
    "\n",
    "def faktoriyel(n):\n",
    "    if n == 0 or n == 1:\n",
    "        return 1\n",
    "    else:\n",
    "        return n * faktoriyel(n - 1)\n",
    "# n = 5, 5 * faktroriyel(4) -> 120\n",
    "# n = 4, 4 * faktoriyel(3) -> 24\n",
    "# n = 3, 3 * faktoriyel (2) -> 2\n",
    "# n = 2 , 2 * faktoriyel(1) -> 1\n",
    "# n = 1 -> 1\n",
    "    \n",
    "def faktoriyel_recursive(n):\n",
    "    if n == 0 or n == 1:\n",
    "        return 1\n",
    "    else:\n",
    "        return n * faktoriyel(n - 1)\n",
    "\n",
    "print(faktoriyel(5))\n",
    "\n",
    "\n",
    "\n"
   ],
   "metadata": {
    "collapsed": false,
    "ExecuteTime": {
     "end_time": "2023-11-19T13:22:05.117052Z",
     "start_time": "2023-11-19T13:22:05.109489Z"
    }
   },
   "id": "e7aa357375a71f1f"
  },
  {
   "cell_type": "code",
   "execution_count": 62,
   "outputs": [
    {
     "name": "stdout",
     "output_type": "stream",
     "text": [
      "True\n",
      "False\n"
     ]
    }
   ],
   "source": [
    "#Asal sayi bulma\n",
    "#Verilen sayiya kadar olan asal sayilari yazdiran fonksiyon\n",
    "#sayi = 20 -> 1,3,5,7...\n",
    "def asal_sayi_yazdir(sayi):\n",
    "    pass\n",
    "\n",
    "#Verilen metin tersten aynisi mi veren fonksiyon\n",
    "# ama = ama -> return True\n",
    "# kerem = merek -> return False\n",
    "def tersten_metin(metin):\n",
    "    if metin[::-1] == metin:\n",
    "        return True\n",
    "    return False\n",
    "    \n",
    "\n",
    "print(tersten_metin(\"ama\"))\n",
    "print(tersten_metin(\"kerem\"))\n",
    "\n"
   ],
   "metadata": {
    "collapsed": false,
    "ExecuteTime": {
     "end_time": "2023-11-19T13:49:47.760380Z",
     "start_time": "2023-11-19T13:49:47.752682Z"
    }
   },
   "id": "96a5195433c5c021"
  },
  {
   "cell_type": "code",
   "execution_count": 55,
   "outputs": [
    {
     "name": "stdout",
     "output_type": "stream",
     "text": [
      "2\n",
      "3\n",
      "5\n",
      "7\n",
      "11\n",
      "13\n",
      "17\n",
      "19\n"
     ]
    }
   ],
   "source": [
    "#Asal sayi bulma cozumu\n",
    "def asal_mi(sayi):\n",
    "    if sayi < 2:\n",
    "        return False\n",
    "    else:\n",
    "        for i in range(2,sayi):\n",
    "            if sayi % i == 0:\n",
    "                return False\n",
    "    return True\n",
    "\n",
    "def asal_sayilari_yazdir(x):\n",
    "    for sayi in range(2,x+1):\n",
    "        if asal_mi(sayi) == True:\n",
    "            print(sayi)\n",
    "\n",
    "asal_sayilari_yazdir(20)"
   ],
   "metadata": {
    "collapsed": false,
    "ExecuteTime": {
     "end_time": "2023-11-19T13:45:22.965293Z",
     "start_time": "2023-11-19T13:45:22.960787Z"
    }
   },
   "id": "5956098224cd163d"
  },
  {
   "cell_type": "code",
   "execution_count": null,
   "outputs": [],
   "source": [],
   "metadata": {
    "collapsed": false
   },
   "id": "991f3328679d4603"
  },
  {
   "cell_type": "code",
   "execution_count": null,
   "outputs": [],
   "source": [],
   "metadata": {
    "collapsed": false
   },
   "id": "d0e6bbad009046bb"
  },
  {
   "cell_type": "code",
   "execution_count": null,
   "outputs": [],
   "source": [],
   "metadata": {
    "collapsed": false
   },
   "id": "df4265a877ffaa5b"
  },
  {
   "cell_type": "code",
   "execution_count": null,
   "outputs": [],
   "source": [],
   "metadata": {
    "collapsed": false
   },
   "id": "17401dc1d4fc60ba"
  },
  {
   "cell_type": "code",
   "execution_count": null,
   "outputs": [],
   "source": [],
   "metadata": {
    "collapsed": false
   },
   "id": "7cf2a101b8abdf41"
  },
  {
   "cell_type": "code",
   "execution_count": null,
   "outputs": [],
   "source": [
    "\n"
   ],
   "metadata": {
    "collapsed": false
   },
   "id": "adb939abda67729b"
  }
 ],
 "metadata": {
  "kernelspec": {
   "display_name": "Python 3",
   "language": "python",
   "name": "python3"
  },
  "language_info": {
   "codemirror_mode": {
    "name": "ipython",
    "version": 2
   },
   "file_extension": ".py",
   "mimetype": "text/x-python",
   "name": "python",
   "nbconvert_exporter": "python",
   "pygments_lexer": "ipython2",
   "version": "2.7.6"
  }
 },
 "nbformat": 4,
 "nbformat_minor": 5
}
